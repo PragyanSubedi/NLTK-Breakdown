{
 "cells": [
  {
   "cell_type": "markdown",
   "id": "3df2c295-9dbf-457b-8874-618e08bd8966",
   "metadata": {},
   "source": [
    "# Introduction to the Natural Langauge Toolkit"
   ]
  },
  {
   "cell_type": "code",
   "execution_count": 1,
   "id": "645a4478-df8e-4bab-9282-3f41a0cd66b8",
   "metadata": {},
   "outputs": [],
   "source": [
    "# Install NLTK\n",
    "# !pip install nltk"
   ]
  },
  {
   "cell_type": "code",
   "execution_count": 2,
   "id": "2c30adc0-a23c-4f49-9f81-5279938c5af0",
   "metadata": {},
   "outputs": [
    {
     "name": "stderr",
     "output_type": "stream",
     "text": [
      "c:\\users\\msi\\appdata\\local\\programs\\python\\python39\\lib\\site-packages\\scipy\\__init__.py:138: UserWarning: A NumPy version >=1.16.5 and <1.23.0 is required for this version of SciPy (detected version 1.24.2)\n",
      "  warnings.warn(f\"A NumPy version >={np_minversion} and <{np_maxversion} is required for this version of \"\n"
     ]
    }
   ],
   "source": [
    "# Download all necessary collections using the UI\n",
    "import nltk\n",
    "\n",
    "# Run this if working for first time\n",
    "# nltk.download() "
   ]
  },
  {
   "cell_type": "code",
   "execution_count": 3,
   "id": "08ca6aeb-8975-4baf-b0fe-aaadf036086c",
   "metadata": {},
   "outputs": [
    {
     "name": "stdout",
     "output_type": "stream",
     "text": [
      "*** Introductory Examples for the NLTK Book ***\n",
      "Loading text1, ..., text9 and sent1, ..., sent9\n",
      "Type the name of the text or sentence to view it.\n",
      "Type: 'texts()' or 'sents()' to list the materials.\n",
      "text1: Moby Dick by Herman Melville 1851\n",
      "text2: Sense and Sensibility by Jane Austen 1811\n",
      "text3: The Book of Genesis\n",
      "text4: Inaugural Address Corpus\n",
      "text5: Chat Corpus\n",
      "text6: Monty Python and the Holy Grail\n",
      "text7: Wall Street Journal\n",
      "text8: Personals Corpus\n",
      "text9: The Man Who Was Thursday by G . K . Chesterton 1908\n"
     ]
    }
   ],
   "source": [
    "from nltk.book import *"
   ]
  },
  {
   "cell_type": "code",
   "execution_count": 4,
   "id": "a7cd5c8a-8eff-4faa-8e3c-7f5b62275cd2",
   "metadata": {},
   "outputs": [
    {
     "data": {
      "text/plain": [
       "<Text: Moby Dick by Herman Melville 1851>"
      ]
     },
     "execution_count": 4,
     "metadata": {},
     "output_type": "execute_result"
    }
   ],
   "source": [
    "text1"
   ]
  },
  {
   "cell_type": "code",
   "execution_count": 5,
   "id": "727647e1-2026-4640-911f-8b32a1657fd5",
   "metadata": {},
   "outputs": [
    {
     "name": "stdout",
     "output_type": "stream",
     "text": [
      "Displaying 11 of 11 matches:\n",
      "ong the former , one was of a most monstrous size . ... This came towards us , \n",
      "ON OF THE PSALMS . \" Touching that monstrous bulk of the whale or ork we have r\n",
      "ll over with a heathenish array of monstrous clubs and spears . Some were thick\n",
      "d as you gazed , and wondered what monstrous cannibal and savage could ever hav\n",
      "that has survived the flood ; most monstrous and most mountainous ! That Himmal\n",
      "they might scout at Moby Dick as a monstrous fable , or still worse and more de\n",
      "th of Radney .'\" CHAPTER 55 Of the Monstrous Pictures of Whales . I shall ere l\n",
      "ing Scenes . In connexion with the monstrous pictures of whales , I am strongly\n",
      "ere to enter upon those still more monstrous stories of them which are to be fo\n",
      "ght have been rummaged out of this monstrous cabinet there is no telling . But \n",
      "of Whale - Bones ; for Whales of a monstrous size are oftentimes cast up dead u\n"
     ]
    }
   ],
   "source": [
    "# Searching text\n",
    "text1.concordance(\"monstrous\")"
   ]
  },
  {
   "cell_type": "code",
   "execution_count": 6,
   "id": "5e0a582a-b510-490f-890e-c488c4005251",
   "metadata": {},
   "outputs": [
    {
     "name": "stdout",
     "output_type": "stream",
     "text": [
      "true contemptible christian abundant few part mean careful puzzled\n",
      "mystifying passing curious loving wise doleful gamesome singular\n",
      "delightfully perilous fearless\n"
     ]
    }
   ],
   "source": [
    "# Find similar context\n",
    "text1.similar(\"monstrous\")"
   ]
  },
  {
   "cell_type": "code",
   "execution_count": 7,
   "id": "60fb7e1e-67cc-48c3-a6b8-0fcdede7dbde",
   "metadata": {},
   "outputs": [
    {
     "name": "stdout",
     "output_type": "stream",
     "text": [
      "am_glad a_pretty a_lucky is_pretty be_glad\n"
     ]
    }
   ],
   "source": [
    "# Find common contexts\n",
    "text2.common_contexts([\"monstrous\", \"very\"])"
   ]
  },
  {
   "cell_type": "code",
   "execution_count": 8,
   "id": "3556b5c5-d8cd-4a93-aa98-f1cb5b8c8636",
   "metadata": {},
   "outputs": [
    {
     "data": {
      "image/png": "[encoded data removed]",
      "text/plain": [
       "<Figure size 432x288 with 1 Axes>"
      ]
     },
     "metadata": {
      "needs_background": "light"
     },
     "output_type": "display_data"
    }
   ],
   "source": [
    "# How many words appear in the text along with their location \n",
    "text4.dispersion_plot([\"citizens\", \"democracy\", \"freedom\", \"duties\", \"America\"])"
   ]
  },
  {
   "cell_type": "code",
   "execution_count": 9,
   "id": "2b8db830-aec2-494b-b979-293df792e4a1",
   "metadata": {},
   "outputs": [
    {
     "name": "stderr",
     "output_type": "stream",
     "text": [
      "Building ngram index...\n"
     ]
    },
    {
     "name": "stdout",
     "output_type": "stream",
     "text": [
      "laid by her , and said unto Cain , Where art thou , and said , Go to ,\n",
      "I will not do it for ten ' s sons ; we dreamed each man according to\n",
      "their generatio the firstborn said unto Laban , Because I said , Nay ,\n",
      "but Sarah shall her name be . , duke Elah , duke Shobal , and Akan .\n",
      "and looked upon my affliction . Bashemath Ishmael ' s blood , but Isra\n",
      "for as a prince hast thou found of all the cattle in the valley , and\n",
      "the wo The\n"
     ]
    },
    {
     "data": {
      "text/plain": [
       "\"laid by her , and said unto Cain , Where art thou , and said , Go to ,\\nI will not do it for ten ' s sons ; we dreamed each man according to\\ntheir generatio the firstborn said unto Laban , Because I said , Nay ,\\nbut Sarah shall her name be . , duke Elah , duke Shobal , and Akan .\\nand looked upon my affliction . Bashemath Ishmael ' s blood , but Isra\\nfor as a prince hast thou found of all the cattle in the valley , and\\nthe wo The\""
      ]
     },
     "execution_count": 9,
     "metadata": {},
     "output_type": "execute_result"
    }
   ],
   "source": [
    "# Generating random text\n",
    "text3.generate()"
   ]
  },
  {
   "cell_type": "code",
   "execution_count": 10,
   "id": "ffb98c89-3b19-4624-8290-712efbb98de5",
   "metadata": {},
   "outputs": [
    {
     "data": {
      "text/plain": [
       "44764"
      ]
     },
     "execution_count": 10,
     "metadata": {},
     "output_type": "execute_result"
    }
   ],
   "source": [
    "# Counting Vocabulary\n",
    "len(text3)"
   ]
  },
  {
   "cell_type": "code",
   "execution_count": 12,
   "id": "fdce69ff-e669-41ea-a949-8cd3801f1e8f",
   "metadata": {},
   "outputs": [
    {
     "data": {
      "text/plain": [
       "2789"
      ]
     },
     "execution_count": 12,
     "metadata": {},
     "output_type": "execute_result"
    }
   ],
   "source": [
    "# Counting individual tokens\n",
    "len(set(text3))"
   ]
  },
  {
   "cell_type": "code",
   "execution_count": 13,
   "id": "cfb9e80c-8c38-4ade-baf4-51481098a098",
   "metadata": {},
   "outputs": [
    {
     "data": {
      "text/plain": [
       "0.06230453042623537"
      ]
     },
     "execution_count": 13,
     "metadata": {},
     "output_type": "execute_result"
    }
   ],
   "source": [
    "# Measuring lexical richness (percentage of distinct words)\n",
    "len(set(text3)) / len(text3)"
   ]
  },
  {
   "cell_type": "code",
   "execution_count": 14,
   "id": "8d67e418-e71b-4735-a4cc-b037e4aeecc9",
   "metadata": {},
   "outputs": [
    {
     "data": {
      "text/plain": [
       "5"
      ]
     },
     "execution_count": 14,
     "metadata": {},
     "output_type": "execute_result"
    }
   ],
   "source": [
    "# Counting the number of times a word appears in a text\n",
    "text3.count(\"smote\")"
   ]
  },
  {
   "cell_type": "code",
   "execution_count": 15,
   "id": "83e645ad-d051-4110-97fe-be49607cad58",
   "metadata": {},
   "outputs": [],
   "source": [
    "def lexical_diversity(text): \n",
    "     return len(set(text)) / len(text)\n",
    "    \n",
    "def percentage(count, total):\n",
    "    return 100*count/total"
   ]
  },
  {
   "cell_type": "code",
   "execution_count": 18,
   "id": "933dec20-c43b-447b-b325-e3389ebbe4da",
   "metadata": {},
   "outputs": [
    {
     "data": {
      "text/plain": [
       "0.06230453042623537"
      ]
     },
     "execution_count": 18,
     "metadata": {},
     "output_type": "execute_result"
    }
   ],
   "source": [
    "# Calculate lexical diversity\n",
    "lexical_diversity(text3)"
   ]
  },
  {
   "cell_type": "code",
   "execution_count": 19,
   "id": "cff15ba6-11fc-439a-9d42-204424ffddea",
   "metadata": {},
   "outputs": [
    {
     "data": {
      "text/plain": [
       "1.457806031353621"
      ]
     },
     "execution_count": 19,
     "metadata": {},
     "output_type": "execute_result"
    }
   ],
   "source": [
    "# Calculate percentage\n",
    "percentage(text4.count('a'), len(text4))"
   ]
  },
  {
   "cell_type": "markdown",
   "id": "af024818-d6d6-4c5d-bf31-84cd681dad44",
   "metadata": {},
   "source": [
    "## Frequency Distributions"
   ]
  },
  {
   "cell_type": "code",
   "execution_count": 21,
   "id": "13e60edf-3f84-4f0e-b9b1-3614173d455f",
   "metadata": {},
   "outputs": [
    {
     "data": {
      "text/plain": [
       "FreqDist({',': 18713, 'the': 13721, '.': 6862, 'of': 6536, 'and': 6024, 'a': 4569, 'to': 4542, ';': 4072, 'in': 3916, 'that': 2982, ...})"
      ]
     },
     "execution_count": 21,
     "metadata": {},
     "output_type": "execute_result"
    }
   ],
   "source": [
    "# Calculating the frequency of each vocabulary item in the text\n",
    "fdist1 = FreqDist(text1)\n",
    "fdist1"
   ]
  },
  {
   "cell_type": "code",
   "execution_count": 23,
   "id": "0b55a01b-acf0-4fbd-9712-303e4ea87be9",
   "metadata": {},
   "outputs": [
    {
     "data": {
      "text/plain": [
       "[(',', 18713), ('the', 13721), ('.', 6862), ('of', 6536), ('and', 6024)]"
      ]
     },
     "execution_count": 23,
     "metadata": {},
     "output_type": "execute_result"
    }
   ],
   "source": [
    "fdist1.most_common(5)"
   ]
  },
  {
   "cell_type": "code",
   "execution_count": 24,
   "id": "3e6f3c1b-10d0-4e6a-b98b-bad85b08b2ba",
   "metadata": {},
   "outputs": [
    {
     "data": {
      "text/plain": [
       "906"
      ]
     },
     "execution_count": 24,
     "metadata": {},
     "output_type": "execute_result"
    }
   ],
   "source": [
    "fdist1['whale']"
   ]
  },
  {
   "cell_type": "markdown",
   "id": "34db399b-04b3-453a-b7c0-0aa69e5e7ef4",
   "metadata": {},
   "source": [
    "## Fine-grained selection of words"
   ]
  },
  {
   "cell_type": "code",
   "execution_count": 25,
   "id": "b9fbac0a-2f0f-4d4c-bb18-7caf0211c353",
   "metadata": {},
   "outputs": [
    {
     "data": {
      "text/plain": [
       "['CIRCUMNAVIGATION',\n",
       " 'Physiognomically',\n",
       " 'apprehensiveness',\n",
       " 'cannibalistically',\n",
       " 'characteristically',\n",
       " 'circumnavigating',\n",
       " 'circumnavigation',\n",
       " 'circumnavigations',\n",
       " 'comprehensiveness',\n",
       " 'hermaphroditical',\n",
       " 'indiscriminately',\n",
       " 'indispensableness',\n",
       " 'irresistibleness',\n",
       " 'physiognomically',\n",
       " 'preternaturalness',\n",
       " 'responsibilities',\n",
       " 'simultaneousness',\n",
       " 'subterraneousness',\n",
       " 'supernaturalness',\n",
       " 'superstitiousness',\n",
       " 'uncomfortableness',\n",
       " 'uncompromisedness',\n",
       " 'undiscriminating',\n",
       " 'uninterpenetratingly']"
      ]
     },
     "execution_count": 25,
     "metadata": {},
     "output_type": "execute_result"
    }
   ],
   "source": [
    "V = set(text1)\n",
    "long_words = [w for w in V if len(w) > 15]\n",
    "sorted(long_words)"
   ]
  },
  {
   "cell_type": "code",
   "execution_count": 26,
   "id": "472dd6dc-ec00-4df6-a6c0-53d8dcc8c6f1",
   "metadata": {},
   "outputs": [
    {
     "data": {
      "text/plain": [
       "['#14-19teens',\n",
       " '#talkcity_adults',\n",
       " '((((((((((',\n",
       " '........',\n",
       " 'Question',\n",
       " 'actually',\n",
       " 'anything',\n",
       " 'computer',\n",
       " 'cute.-ass',\n",
       " 'everyone',\n",
       " 'football',\n",
       " 'innocent',\n",
       " 'listening',\n",
       " 'remember',\n",
       " 'seriously',\n",
       " 'something',\n",
       " 'together',\n",
       " 'tomorrow',\n",
       " 'watching']"
      ]
     },
     "execution_count": 26,
     "metadata": {},
     "output_type": "execute_result"
    }
   ],
   "source": [
    "fdist5 = FreqDist(text5)\n",
    "sorted(w for w in set(text5) if len (w) > 7 and fdist5[w] > 7)"
   ]
  },
  {
   "cell_type": "markdown",
   "id": "834e5bb0-053d-40ba-a7de-1dcbac5f3208",
   "metadata": {},
   "source": [
    "## Collocations and bigrams"
   ]
  },
  {
   "cell_type": "markdown",
   "id": "35646593-e8d2-4941-9f09-744dc554b8f1",
   "metadata": {},
   "source": [
    "A collocation is a sequence of words that occur together unusually often whereas a bigram is simply a word pair."
   ]
  },
  {
   "cell_type": "code",
   "execution_count": 27,
   "id": "c9c0b3f6-0ced-49f6-adc3-d55b829e5d1f",
   "metadata": {},
   "outputs": [
    {
     "data": {
      "text/plain": [
       "[('more', 'is'), ('is', 'said'), ('said', 'than'), ('than', 'done')]"
      ]
     },
     "execution_count": 27,
     "metadata": {},
     "output_type": "execute_result"
    }
   ],
   "source": [
    "list(bigrams(['more', 'is', 'said', 'than', 'done']))"
   ]
  },
  {
   "cell_type": "markdown",
   "id": "cd05b393-85a4-4331-be68-0ab1b01d0fe0",
   "metadata": {},
   "source": [
    "Collocations are essentially just frequent bigrams, except that we want to pay more attention to the cases that involve rare words. In particular, we want to find bigrams that occur more often than we would expect based on the frequency of the individual words."
   ]
  },
  {
   "cell_type": "code",
   "execution_count": 28,
   "id": "71ea2df7-1ef8-449b-a17a-13a2ece5c0f1",
   "metadata": {},
   "outputs": [
    {
     "name": "stdout",
     "output_type": "stream",
     "text": [
      "United States; fellow citizens; years ago; four years; Federal\n",
      "Government; General Government; American people; Vice President; God\n",
      "bless; Chief Justice; one another; fellow Americans; Old World;\n",
      "Almighty God; Fellow citizens; Chief Magistrate; every citizen; Indian\n",
      "tribes; public debt; foreign nations\n"
     ]
    }
   ],
   "source": [
    "text4.collocations()"
   ]
  },
  {
   "cell_type": "markdown",
   "id": "182d2b54-807a-49a2-a1c2-8ac00552692d",
   "metadata": {},
   "source": [
    "## Counting other things"
   ]
  },
  {
   "cell_type": "code",
   "execution_count": 31,
   "id": "99056958-0933-4ff9-a60c-cabe6824183c",
   "metadata": {},
   "outputs": [],
   "source": [
    "# Creating a frequency distribution of word lengths in a text\n",
    "fdist = FreqDist(len(w) for w in text1) "
   ]
  },
  {
   "cell_type": "code",
   "execution_count": 32,
   "id": "27dd276d-5f92-41b3-9a47-5f2675057a43",
   "metadata": {},
   "outputs": [
    {
     "data": {
      "text/plain": [
       "FreqDist({3: 50223, 1: 47933, 4: 42345, 2: 38513, 5: 26597, 6: 17111, 7: 14399, 8: 9966, 9: 6428, 10: 3528, ...})"
      ]
     },
     "execution_count": 32,
     "metadata": {},
     "output_type": "execute_result"
    }
   ],
   "source": [
    "fdist"
   ]
  },
  {
   "cell_type": "code",
   "execution_count": 33,
   "id": "864d7af6-36b0-487d-9f1a-4082113e1a67",
   "metadata": {},
   "outputs": [
    {
     "data": {
      "text/plain": [
       "[(3, 50223),\n",
       " (1, 47933),\n",
       " (4, 42345),\n",
       " (2, 38513),\n",
       " (5, 26597),\n",
       " (6, 17111),\n",
       " (7, 14399),\n",
       " (8, 9966),\n",
       " (9, 6428),\n",
       " (10, 3528),\n",
       " (11, 1873),\n",
       " (12, 1053),\n",
       " (13, 567),\n",
       " (14, 177),\n",
       " (15, 70),\n",
       " (16, 22),\n",
       " (17, 12),\n",
       " (18, 1),\n",
       " (20, 1)]"
      ]
     },
     "execution_count": 33,
     "metadata": {},
     "output_type": "execute_result"
    }
   ],
   "source": [
    "fdist.most_common()"
   ]
  },
  {
   "cell_type": "code",
   "execution_count": 35,
   "id": "22e599f2-cf81-489e-8fe1-73f217d73695",
   "metadata": {},
   "outputs": [
    {
     "data": {
      "text/plain": [
       "0.19255882431878046"
      ]
     },
     "execution_count": 35,
     "metadata": {},
     "output_type": "execute_result"
    }
   ],
   "source": [
    "# Length 3 accounts for 20% of the dataset\n",
    "fdist.freq(3)"
   ]
  },
  {
   "cell_type": "markdown",
   "id": "1d19e364-b8f4-4a4b-9cf6-8f7a69536e94",
   "metadata": {},
   "source": [
    "## Cheatsheet"
   ]
  },
  {
   "cell_type": "markdown",
   "id": "655367d4-aff1-4a30-99fc-0092fe26b811",
   "metadata": {},
   "source": [
    "| Example                     | Description                                                    |\n",
    "|-----------------------------|----------------------------------------------------------------|\n",
    "| fdist = FreqDist(samples)   | create a frequency distribution containing the given samples   |\n",
    "| fdist[sample] += 1          | increment the count for this sample                            |\n",
    "| fdist['monstrous']          | count of the number of times a given sample occurred           |\n",
    "| fdist.freq('monstrous')     | frequency of a given sample                                    |\n",
    "| fdist.N()                   | total number of samples                                        |\n",
    "| fdist.most_common(n)        | the n most common samples and their frequencies                |\n",
    "| for sample in fdist:        | iterate over the samples                                       |\n",
    "| fdist.max()                 | sample with the greatest count                                 |\n",
    "| fdist.tabulate()            | tabulate the frequency distribution                            |\n",
    "| fdist.plot()                | graphical plot of the frequency distribution                   |\n",
    "| fdist.plot(cumulative=True) | cumulative plot of the frequency distribution                  |\n",
    "| fdist1 |= fdist2            | update fdist1 with counts from fdist2                          |\n",
    "| fdist1 < fdist2             | test if samples in fdist1 occur less frequently than in fdist2 |\n"
   ]
  }
 ],
 "metadata": {
  "kernelspec": {
   "display_name": "Python 3",
   "language": "python",
   "name": "python3"
  },
  "language_info": {
   "codemirror_mode": {
    "name": "ipython",
    "version": 3
   },
   "file_extension": ".py",
   "mimetype": "text/x-python",
   "name": "python",
   "nbconvert_exporter": "python",
   "pygments_lexer": "ipython3",
   "version": "3.9.2"
  }
 },
 "nbformat": 4,
 "nbformat_minor": 5
}
