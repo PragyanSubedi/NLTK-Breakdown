{
 "cells": [
  {
   "cell_type": "markdown",
   "id": "45afb4b6-57a0-44cc-a350-d63dc9fc5657",
   "metadata": {},
   "source": [
    "# Corpora and Lexical Resources"
   ]
  },
  {
   "cell_type": "code",
   "execution_count": null,
   "id": "2328ff15-c658-4e89-8e84-7b2e8d15e6f2",
   "metadata": {},
   "outputs": [],
   "source": []
  }
 ],
 "metadata": {
  "kernelspec": {
   "display_name": "Python 3",
   "language": "python",
   "name": "python3"
  },
  "language_info": {
   "codemirror_mode": {
    "name": "ipython",
    "version": 3
   },
   "file_extension": ".py",
   "mimetype": "text/x-python",
   "name": "python",
   "nbconvert_exporter": "python",
   "pygments_lexer": "ipython3",
   "version": "3.9.2"
  }
 },
 "nbformat": 4,
 "nbformat_minor": 5
}
